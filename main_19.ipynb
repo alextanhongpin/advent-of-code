{
 "cells": [
  {
   "cell_type": "code",
   "execution_count": 99,
   "metadata": {},
   "outputs": [],
   "source": [
    "def parse_rule(rule, correction=False):\n",
    "    if correction:\n",
    "        if rule == '8: 42':\n",
    "            rule = '8: 42 | 42 8'\n",
    "        elif rule == '11: 42 31':\n",
    "            rule = '11: 42 31 | 42 11 31'\n",
    "    nr, edges = rule.split(': ')\n",
    "    if '\"' in edges:\n",
    "        return (nr, edges.replace('\"', ''))\n",
    "    elif '|' in edges:\n",
    "        left, right = edges.split(' | ')\n",
    "        return (nr, [left.split(' '), right.split(' ')])\n",
    "    else:\n",
    "        return (nr, edges.split(' '))\n",
    "    \n",
    "def parse_input(lines, correction=False):\n",
    "    rules = {}\n",
    "    output = []\n",
    "    for line in lines:\n",
    "        line = line.strip()\n",
    "        if line == '': continue\n",
    "        if ':' in line:\n",
    "            nr, edges = parse_rule(line, correction)\n",
    "            rules[nr] = edges\n",
    "        else:\n",
    "            output.append(line)\n",
    "    return rules, output\n",
    "\n",
    "def match_rules(rules, stack, s):\n",
    "    # This prevents infinite loop.\n",
    "    if len(stack) > len(s):\n",
    "        return False\n",
    "\n",
    "    if len(stack) == 0:\n",
    "        return len(stack) == len(s)\n",
    "\n",
    "    rule = rules[stack.pop()]\n",
    "    # Match the string value, e.g. 4: \"a\"\n",
    "    if isinstance(rule, str):\n",
    "        if rule[0] == s[-1]:\n",
    "            return match_rules(rules, stack, s[:-1])\n",
    "    else:\n",
    "        # Match the OR condition, e.g. (3: 4 5 | 5 4)\n",
    "        if isinstance(rule[0], list):\n",
    "            for r in rule:\n",
    "                if match_rules(rules, stack + r, s):\n",
    "                    return True\n",
    "        else:\n",
    "            # There is no OR, e.g. (3: 4 5)\n",
    "            return match_rules(rules, stack + rule, s)\n",
    "        return False\n",
    "\n",
    "def solver(lines, correction=False):\n",
    "    rules, output = parse_input(lines, correction)\n",
    "    count = 0\n",
    "    for o in output:\n",
    "        if match_rules(rules, rules['0'][:], o):\n",
    "            count += 1\n",
    "    return count"
   ]
  },
  {
   "cell_type": "code",
   "execution_count": 96,
   "metadata": {},
   "outputs": [
    {
     "name": "stdout",
     "output_type": "stream",
     "text": [
      "2\n"
     ]
    }
   ],
   "source": [
    "test_input = \"\"\"0: 4 1 5\n",
    "1: 2 3 | 3 2\n",
    "2: 4 4 | 5 5\n",
    "3: 4 5 | 5 4\n",
    "4: \"a\"\n",
    "5: \"b\"\n",
    "\n",
    "ababbb\n",
    "bababa\n",
    "abbbab\n",
    "aaabbb\n",
    "aaaabbb\"\"\".split('\\n')\n",
    "\n",
    "print(solver(test_input))"
   ]
  },
  {
   "cell_type": "code",
   "execution_count": 97,
   "metadata": {},
   "outputs": [
    {
     "name": "stdout",
     "output_type": "stream",
     "text": [
      "299\n"
     ]
    }
   ],
   "source": [
    "with open('input_19.txt') as f:\n",
    "    print(solver(f))"
   ]
  },
  {
   "cell_type": "code",
   "execution_count": 101,
   "metadata": {},
   "outputs": [
    {
     "name": "stdout",
     "output_type": "stream",
     "text": [
      "12\n"
     ]
    }
   ],
   "source": [
    "test_input = \"\"\"42: 9 14 | 10 1\n",
    "9: 14 27 | 1 26\n",
    "10: 23 14 | 28 1\n",
    "1: \"a\"\n",
    "11: 42 31\n",
    "5: 1 14 | 15 1\n",
    "19: 14 1 | 14 14\n",
    "12: 24 14 | 19 1\n",
    "16: 15 1 | 14 14\n",
    "31: 14 17 | 1 13\n",
    "6: 14 14 | 1 14\n",
    "2: 1 24 | 14 4\n",
    "0: 8 11\n",
    "13: 14 3 | 1 12\n",
    "15: 1 | 14\n",
    "17: 14 2 | 1 7\n",
    "23: 25 1 | 22 14\n",
    "28: 16 1\n",
    "4: 1 1\n",
    "20: 14 14 | 1 15\n",
    "3: 5 14 | 16 1\n",
    "27: 1 6 | 14 18\n",
    "14: \"b\"\n",
    "21: 14 1 | 1 14\n",
    "25: 1 1 | 1 14\n",
    "22: 14 14\n",
    "8: 42\n",
    "26: 14 22 | 1 20\n",
    "18: 15 15\n",
    "7: 14 5 | 1 21\n",
    "24: 14 1\n",
    "\n",
    "abbbbbabbbaaaababbaabbbbabababbbabbbbbbabaaaa\n",
    "bbabbbbaabaabba\n",
    "babbbbaabbbbbabbbbbbaabaaabaaa\n",
    "aaabbbbbbaaaabaababaabababbabaaabbababababaaa\n",
    "bbbbbbbaaaabbbbaaabbabaaa\n",
    "bbbababbbbaaaaaaaabbababaaababaabab\n",
    "ababaaaaaabaaab\n",
    "ababaaaaabbbaba\n",
    "baabbaaaabbaaaababbaababb\n",
    "abbbbabbbbaaaababbbbbbaaaababb\n",
    "aaaaabbaabaaaaababaa\n",
    "aaaabbaaaabbaaa\n",
    "aaaabbaabbaaaaaaabbbabbbaaabbaabaaa\n",
    "babaaabbbaaabaababbaabababaaab\n",
    "aabbbbbaabbbaaaaaabbbbbababaaaaabbaaabba\"\"\".split('\\n')\n",
    "\n",
    "print(solver(test_input, True))"
   ]
  },
  {
   "cell_type": "code",
   "execution_count": null,
   "metadata": {},
   "outputs": [],
   "source": []
  }
 ],
 "metadata": {
  "kernelspec": {
   "display_name": "Python 3",
   "language": "python",
   "name": "python3"
  },
  "language_info": {
   "codemirror_mode": {
    "name": "ipython",
    "version": 3
   },
   "file_extension": ".py",
   "mimetype": "text/x-python",
   "name": "python",
   "nbconvert_exporter": "python",
   "pygments_lexer": "ipython3",
   "version": "3.9.0"
  }
 },
 "nbformat": 4,
 "nbformat_minor": 4
}
